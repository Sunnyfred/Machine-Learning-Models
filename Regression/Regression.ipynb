{
 "cells": [
  {
   "cell_type": "markdown",
   "metadata": {},
   "source": [
    "# Regression"
   ]
  },
  {
   "cell_type": "markdown",
   "metadata": {},
   "source": [
    "## 1.Linear models"
   ]
  },
  {
   "cell_type": "markdown",
   "metadata": {},
   "source": [
    "***\n",
    "\n",
    "* Formulation\n",
    "\n",
    "***"
   ]
  },
  {
   "cell_type": "markdown",
   "metadata": {},
   "source": [
    "Assume instance $ \\mathbf{x} = (x_1, x_2, ... , x_d)^T  $, here $T$ means the matrix transpose. Linear model use linear combination of all attributes to do prediction.\n",
    "\n",
    "\\begin{equation}\n",
    "f(\\mathbf{x}) = w_1x_1 + w_2x_2 + ... + w_dx_d + b, \\tag{1}\n",
    "\\end{equation}\n",
    "\n",
    "or\n",
    "\n",
    "\\begin{equation}\n",
    "    f(\\mathbf{x}) = \\mathbf{w}^T\\mathbf{x} + b. \\tag{2}\n",
    "\\end{equation}"
   ]
  },
  {
   "cell_type": "markdown",
   "metadata": {},
   "source": [
    "***\n",
    "\n",
    "* Linear regression\n",
    "\n",
    "***"
   ]
  },
  {
   "cell_type": "markdown",
   "metadata": {},
   "source": [
    "Use the linear model to obtain the relationship between the dependent variable (test results, $y_i$) and independent variables (selected features, $x_i$). If only one explanatory variable is considered, it is called simple linear regression, for more than one, it is called multiple linear regression. If multiple dependent variables are considered, it is called multivariate linear regression. Let's start with the simple linear regression.\n",
    "\n",
    "Given $x_i$ and $y_i$, how to find w and b so that $f(x_i) = wx_i + b \\rightarrow y_i$?"
   ]
  },
  {
   "cell_type": "markdown",
   "metadata": {},
   "source": [
    "We may use the least square approach:\n",
    "\n",
    "$(w^* , b^*) = \\underset{(w , b)}{\\arg\\min} \\sum\\limits_{i=1}^m (f(x_i) - y_i)^2 = \\underset{(w , b)}{\\arg\\min} \\sum\\limits_{i=1}^m (y_i - wx_i - b)^2$, here $m$ means we have $m$ instances.\n",
    "\n",
    "Let's set\n",
    "$E_{(w, b)} = \\sum\\limits_{i=1}^m (y_i - wx_i - b)^2$, here $E_{(w, b)}$ is the cost function. \n",
    "\n",
    "Perform parameter estimation of least square approach\n",
    "\n",
    "\\begin{equation}\n",
    "    \\frac{\\partial E}{\\partial w} = 2 \\left( w \\sum\\limits_{i=1}^m x_i^2 - \\sum\\limits_{i=1}^m (y_i - b)x_i \\right) = 0, \\tag{3}\n",
    "\\end{equation}\n",
    "\n",
    "\\begin{equation}\n",
    "    \\frac{\\partial E}{\\partial b} = 2 \\left( mb - \\sum\\limits_{i=1}^m (y_i - wx_i) \\right) = 0. \\tag{4}\n",
    "\\end{equation}\n",
    "\n",
    "We then have\n",
    "\n",
    "\\begin{equation}\n",
    "    w = \\frac{ \\sum\\limits_{i=1}^m y_i (x_i - \\frac{1}{m}\\sum\\limits_{i=1}^m x_i )}{\\sum\\limits_{i=1}^m x_i^2 - \\frac{1}{m} \\left( \\sum\\limits_{i=1}^m x_i \\right)^2}, \\tag{5}\n",
    "\\end{equation}\n",
    "\n",
    "\\begin{equation}\n",
    "    b = \\frac{1}{m}\\sum\\limits_{i=1}^m (y_i - w x_i). \\tag{6}\n",
    "\\end{equation}"
   ]
  },
  {
   "cell_type": "markdown",
   "metadata": {},
   "source": [
    "Similarly, the cost function for multiple variables (let's say d varaibles) is: $E_{(\\mathbf{w}, b)} = E_{(w_1, w_2, ..., w_d, b)} = \\sum\\limits_{i=1}^m (y_i - \\mathbf{w}^T\\mathbf{x} - b)^2$. Combine coeficients $\\mathbf{w}$ and $b$, we obtain a new vector $\\hat{\\mathbf{w}} = (\\mathbf{w} ; b)$. The dataset $\\mathbf{XX}$ with the size $m \\times (d+1)$ can be read as \n",
    "\n",
    "\\begin{equation}\n",
    "\\mathbf{XX} = \\begin{pmatrix}\n",
    "x_{11} & x_{12} & ... & x_{1d}\\\\\n",
    "x_{21} & x_{22} & ... & x_{2d}\\\\\n",
    "\\vdots & \\vdots & \\ddots & \\vdots \\\\\n",
    "x_{m1} & x_{m2} & ... & x_{md}\n",
    "\\end{pmatrix} =  \\begin{pmatrix}\n",
    "\\mathbf{x_{1}^T} & 1 \\\\\n",
    "\\mathbf{x_{2}^T} & 1 \\\\\n",
    "\\vdots & \\vdots \\\\\n",
    "\\mathbf{x_{m}^T} & 1\n",
    "\\end{pmatrix}.       \\tag{7}\n",
    "\\end{equation}\n",
    "\n",
    "The label vector is $\\mathbf{y} = (y_1; y_2; ...; y_m)$. Based on least square method, we need obtain the following\n",
    "\n",
    "\\begin{equation}\n",
    "\\mathbf{\\hat{w}}^* = \\underset{\\mathbf{\\hat{w}}}{\\arg\\min} (\\mathbf{y} - \\mathbf{XX\\hat{w}})^T  (\\mathbf{y} - \\mathbf{XX\\hat{w}}).  \\tag{8}\n",
    "\\end{equation}\n",
    "\n",
    "Let $E_{\\mathbf{\\hat{w}}} = (\\mathbf{y} - \\mathbf{XX\\hat{w}})^T  (\\mathbf{y} - \\mathbf{XX\\hat{w}})$, then the derivative w.r.t. $\\mathbf{\\hat{w}}$ is\n",
    "\n",
    "\\begin{equation}\n",
    "\\frac{\\partial E_{\\mathbf{\\hat{w}}}}{\\partial \\mathbf{\\hat{w}}} = 2\\mathbf{XX}^T (\\mathbf{XX}\\mathbf{\\hat{w}} - \\mathbf{y}) .  \\tag{9}\n",
    "\\end{equation}\n",
    "\n",
    "We then use Gradient Descent method to iterativly update the unknown coefficients\n",
    "\n",
    "\\begin{equation}\n",
    "\\mathbf{\\hat{w}}^{(n+1)} = \\mathbf{\\hat{w}}^{(n)} - \\left ( \\alpha \\frac{\\partial E_{\\mathbf{\\hat{w}}}}{\\partial \\mathbf{\\hat{w}}} \\right)^n.  \\tag{10}\n",
    "\\end{equation}"
   ]
  },
  {
   "cell_type": "markdown",
   "metadata": {},
   "source": [
    "***\n",
    "\n",
    "* Hand-on example\n",
    "\n",
    "***"
   ]
  },
  {
   "cell_type": "code",
   "execution_count": 57,
   "metadata": {},
   "outputs": [
    {
     "name": "stdout",
     "output_type": "stream",
     "text": [
      "Coefficients:  W =  [9.8462603] , b =  0.18640284286555492\n",
      "MSE =  0.29886700774758884\n",
      "RMSE =  0.5466873034446555\n"
     ]
    },
    {
     "data": {
      "image/png": "[encoded data removed]",
      "text/plain": [
       "<Figure size 432x288 with 1 Axes>"
      ]
     },
     "metadata": {
      "needs_background": "light"
     },
     "output_type": "display_data"
    }
   ],
   "source": [
    "import numpy as np \n",
    "import pandas as pd \n",
    "import math as m\n",
    "import matplotlib.pyplot as plt \n",
    "\n",
    "def train_test_split(X, Y, train_size, shuffle):\n",
    "    ''' Perform tran/test datasets splitting '''\n",
    "    if shuffle:\n",
    "        randomize = np.arange(len(X))\n",
    "        np.random.shuffle(randomize)\n",
    "        X = X[randomize]\n",
    "        Y = Y[randomize]\n",
    "    s_id = int(len(Y) * train_size)\n",
    "    X_train, X_test = X[:s_id], X[s_id:]\n",
    "    Y_train, Y_test = Y[:s_id], Y[s_id:]\n",
    "\n",
    "    return X_train, X_test, Y_train, Y_test    \n",
    "\n",
    "\n",
    "def metric_mse(Y_label, Y_pred):\n",
    "    ''' Evaluate mean squared error (MSE) '''\n",
    "    return np.mean(np.power(Y_label - Y_pred, 2))\n",
    "\n",
    "def metric_rmse(Y_label, Y_pred):\n",
    "    ''' Evaluate root mean squared error (RMSE) '''\n",
    "    return m.sqrt(np.mean(np.power(Y_label - Y_pred, 2)))\n",
    "\n",
    "def readin_data(path):\n",
    "    ''' Evaluate root mean squared error (RMSE) '''\n",
    "    df = pd.read_csv(path) \n",
    "    X = df.iloc[:,:-1].values \n",
    "    Y = df.iloc[:,1].values \n",
    "    return X, Y\n",
    "    \n",
    "def generate_dataset_simple(beta, n, std_dev):\n",
    "    ''' Generate dataset '''\n",
    "    X = np.random.rand(n)\n",
    "    e = np.random.randn(n) * std_dev\n",
    "    Y = X * beta + e\n",
    "    X = X.reshape((n,1))\n",
    "    return X, Y    \n",
    "\n",
    "class LinearRegression() : \n",
    "    ''' Linear Regression model. \n",
    "        Used to obtain the relationship between dependent variable and independent variables.'''\n",
    "    def __init__(self, iterations, learning_rate):   \n",
    "        self.lr = learning_rate \n",
    "        self.it = iterations \n",
    "             \n",
    "    def fit(self, X, Y): \n",
    "        # m instances, d atrributes \n",
    "        self.m, self.d = X.shape \n",
    "        # weight initialization \n",
    "        self.W = np.zeros(self.d+1) \n",
    "        self.X = X \n",
    "        self.XX = np.ones((self.m, self.d+1)) \n",
    "        self.XX[:,:-1] = self.X\n",
    "        self.Y = Y      \n",
    "        for i in range(self.it):   \n",
    "            self.update_weights() \n",
    "        return self\n",
    "      \n",
    "    def update_weights(self): \n",
    "        Y_pred = self.predict(self.XX) \n",
    "        # calculate gradients   \n",
    "        dW = (self.XX.T).dot(Y_pred - self.Y)/self.m  \n",
    "        # update weights \n",
    "        self.W = self.W - self.lr * dW \n",
    "        return self\n",
    "       \n",
    "    def predict(self, X): \n",
    "        return X.dot(self.W)\n",
    "  \n",
    "def main(): \n",
    "    # Import data\n",
    "    X, Y = generate_dataset_simple(10, 200, 0.5)\n",
    "    # Splitting dataset into train and test set \n",
    "    X_train, X_test, Y_train, Y_test = train_test_split(X, Y, train_size=.5, shuffle=False)\n",
    "    # Model Learning\n",
    "    model = LinearRegression(learning_rate = 0.01, iterations = 15000) \n",
    "    model.fit(X_train, Y_train) \n",
    "    # Model Working\n",
    "    M, D = X_test.shape\n",
    "    TEST = np.ones((M, D+1)) \n",
    "    TEST[:,:-1] = X_test\n",
    "    Y_pred = model.predict(TEST)  \n",
    "    # Statistics\n",
    "    mse = metric_mse(Y_test, Y_pred)\n",
    "    rmse = metric_rmse(Y_test, Y_pred)\n",
    "    print('Coefficients: ', 'W = ', model.W[:-1], ', b = ', model.W[-1]) \n",
    "    print('MSE = ', mse)    \n",
    "    print('RMSE = ', rmse)\n",
    "    # Visualization\n",
    "    plt.scatter( X_test, Y_test, color = 'black', s=8) \n",
    "    plt.plot( X_test, Y_pred, color = 'red', linewidth=3) \n",
    "    plt.title( 'X_test v.s. Y_test') \n",
    "    plt.xlabel( 'X_test') \n",
    "    plt.ylabel( 'Y_test') \n",
    "    X_actual = np.array([0, 1])\n",
    "    Y_actual = X_actual*10\n",
    "    plt.plot(X_actual, Y_actual, 'c--', linewidth=3) \n",
    "    plt.legend(('Regression Line', 'Actual Line'),loc='upper left', prop={'size': 15})\n",
    "    plt.show()\n",
    "    \n",
    "if __name__ == '__main__':  \n",
    "    main()"
   ]
  },
  {
   "cell_type": "markdown",
   "metadata": {},
   "source": [
    "***\n",
    "* Additional notes about linear regression\n",
    "***"
   ]
  },
  {
   "cell_type": "markdown",
   "metadata": {},
   "source": [
    "1. When performing **Gradient Descent** approach, all features/attributes must have similar scale, or **feature scaling** is required to increase Gradient Descent convergence. We may import `from sklearn.preprocessing import StandardScaler`, then use `StandardScaler()`. (refer [feature scaling](https://www.analyticsvidhya.com/blog/2020/04/feature-scaling-machine-learning-normalization-standardization/))\n",
    "\n",
    "2. To avoid local minimum, and to quickly find the global minimum, make sure the cost function is a **convex function** ($\\displaystyle i.e., f(\\frac{a+b}{2}) \\leq \\frac{f(a)+f(b)}{2} $).\n",
    "\n",
    "3. Linear regression assumptions:\n",
    "    - Exogeneity weak. Independent variable X is fixed variable, it is not random variable;\n",
    "    - **Linearity**. $f$ is a linear combination of the parameters/coefficients and the independent variables X. Note that, linearity is a restriction on the parameters, not the independent variables X, e.g., polynomial regression can also be linear regression;\n",
    "    - **Constant variable(Homoscedasticity)**. The variance of residual is the same for any value of independent variables;\n",
    "    - **Independence**. Observations are independent of each other. The errors are uncorrelated with each other;\n",
    "    - **Normality**. For any fixed value of X, Y is normally distributed."
   ]
  },
  {
   "cell_type": "code",
   "execution_count": null,
   "metadata": {},
   "outputs": [],
   "source": []
  }
 ],
 "metadata": {
  "kernelspec": {
   "display_name": "Python 3",
   "language": "python",
   "name": "python3"
  },
  "language_info": {
   "codemirror_mode": {
    "name": "ipython",
    "version": 3
   },
   "file_extension": ".py",
   "mimetype": "text/x-python",
   "name": "python",
   "nbconvert_exporter": "python",
   "pygments_lexer": "ipython3",
   "version": "3.7.3"
  }
 },
 "nbformat": 4,
 "nbformat_minor": 2
}
